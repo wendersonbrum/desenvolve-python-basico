{
 "cells": [
  {
   "cell_type": "markdown",
   "id": "cbdff5a5",
   "metadata": {},
   "source": [
    "# Módulo 5 - Funções\n",
    "\n",
    "## Aulas 5.2 - Funções Customizadas e 5.4 Funções ```lambda```"
   ]
  },
  {
   "cell_type": "markdown",
   "id": "28a3fee2",
   "metadata": {},
   "source": [
    "### Q1.\n",
    "\n",
    "- Sabendo que o código a seguir calcula o fatorial de n, escreva uma função chamada ```fatorial()``` que recebe um inteiro ```n``` como parâmetro e retorna o resultado do fatorial de ```n```. \n",
    "- No programa principal, peça ao usuário o valor de ```n```, chame a sua função e imprima o retorno.\n",
    "\n",
    "```python\n",
    "fat = 1\n",
    "for i in range(1, n+1):\n",
    "    fat *= i \n",
    "```"
   ]
  },
  {
   "cell_type": "code",
   "execution_count": 2,
   "id": "d126b3a5",
   "metadata": {},
   "outputs": [],
   "source": [
    "## Crie aqui a função fatorial()\n",
    "## lembre-se de executar a célula para que \n",
    "## a função passe a existir e possa ser chamada\n",
    "def fatorial(n):\n",
    "    if n == 0 or n == 1:\n",
    "        return 1\n",
    "    else:\n",
    "        resultado = 1\n",
    "        for i in range(2, n + 1):\n",
    "            resultado *= i\n",
    "        return resultado\n",
    "\n",
    "\n",
    "\n",
    "    \n",
    "    "
   ]
  },
  {
   "cell_type": "code",
   "execution_count": 3,
   "id": "6e4fe64e",
   "metadata": {},
   "outputs": [
    {
     "name": "stdin",
     "output_type": "stream",
     "text": [
      "Digite um número inteiro para calcular o fatorial:  5\n"
     ]
    },
    {
     "name": "stdout",
     "output_type": "stream",
     "text": [
      "O fatorial de 5 é 120\n"
     ]
    }
   ],
   "source": [
    "## Escreva aqui o programa principal e execute a célula\n",
    "if __name__ == \"__main__\":\n",
    "    n = int(input(\"Digite um número inteiro para calcular o fatorial: \"))\n",
    "    print(f\"O fatorial de {n} é {fatorial(n)}\")\n",
    "\n"
   ]
  },
  {
   "cell_type": "markdown",
   "id": "c0a1f599",
   "metadata": {},
   "source": [
    "### Q2.\n",
    "\n",
    "- Escreva uma função em Python chamada ```soma_quadrados``` que recebe dois números como parâmetros e retorna a soma dos seus quadrados. \n",
    "- No programa principal solicite ao usuário que insira dois números e utilize a função para exibir a soma dos quadrados."
   ]
  },
  {
   "cell_type": "code",
   "execution_count": 4,
   "id": "6dbddaad",
   "metadata": {},
   "outputs": [],
   "source": [
    "## Crie aqui a função soma_quadrados()\n",
    "def soma_quadrados(a, b):\n",
    "    return a**2 + b**2\n",
    "\n"
   ]
  },
  {
   "cell_type": "code",
   "execution_count": 5,
   "id": "9175a7da",
   "metadata": {},
   "outputs": [
    {
     "name": "stdin",
     "output_type": "stream",
     "text": [
      "Digite o primeiro número:  5\n",
      "Digite o segundo número:  5\n"
     ]
    },
    {
     "name": "stdout",
     "output_type": "stream",
     "text": [
      "A soma dos quadrados é 50.0\n"
     ]
    }
   ],
   "source": [
    "## Escreva aqui o programa principal e execute a célula\n",
    "if __name__ == \"__main__\":\n",
    "    num1 = float(input(\"Digite o primeiro número: \"))\n",
    "    num2 = float(input(\"Digite o segundo número: \"))\n",
    "    resultado = soma_quadrados(num1, num2)\n",
    "    print(f\"A soma dos quadrados é {resultado}\")"
   ]
  },
  {
   "cell_type": "markdown",
   "id": "6ba34ce0",
   "metadata": {},
   "source": [
    "### Q3.\n",
    "\n",
    "- Crie uma função em Python chamada ```soma_digitos``` que recebe um número inteiro como parâmetro e retorna a soma dos seus dígitos. Por exemplo, para o número 123, a função deve retornar 6, $(1 + 2 + 3)$.\n",
    "    - O desafio aqui é separar os dígitos de um número inteiro usando operações aritméticas <br> <br>\n",
    "\n",
    "- No programa principal solicite ao usuário que insira um número e utilize a função ```soma_digitos``` para calcular e exibir a soma dos seus dígitos."
   ]
  },
  {
   "cell_type": "code",
   "execution_count": 10,
   "id": "34838ebf",
   "metadata": {},
   "outputs": [],
   "source": [
    "## Crie aqui a função soma_digitos()\n",
    "def soma_digitos(n):\n",
    "    soma = 0\n",
    "    while n > 0:\n",
    "        soma += n % 10\n",
    "        n = n // 10\n",
    "    return soma\n"
   ]
  },
  {
   "cell_type": "code",
   "execution_count": 11,
   "id": "27c35b21",
   "metadata": {},
   "outputs": [
    {
     "name": "stdin",
     "output_type": "stream",
     "text": [
      "Digite um número inteiro:  56\n"
     ]
    },
    {
     "name": "stdout",
     "output_type": "stream",
     "text": [
      "A soma dos dígitos de 56 é 11\n"
     ]
    }
   ],
   "source": [
    "## Escreva aqui o programa principal e execute a célula\n",
    "if __name__ == \"__main__\":\n",
    "    num = int(input(\"Digite um número inteiro: \"))\n",
    "    resultado = soma_digitos(num)\n",
    "    print(f\"A soma dos dígitos de {num} é {resultado}\")\n",
    "\n"
   ]
  },
  {
   "cell_type": "markdown",
   "id": "c318b159",
   "metadata": {},
   "source": [
    "### Q4.\n",
    "\n",
    "- Crie a função ```inverteValor()``` que recebe um inteiro de qualquer tamanho e retorna esse valor invertido usando apenas operações aritméticas\n",
    "- Crie a função ```verificaInverso()``` que recebe o valor original e o valor invertido e retorna verdadeiro se ambos forem igualmente par ou igualmente ímpar. Retorne falso caso contrário.\n",
    "- No programa principal, peça um valor do usuário e imprima o retorno de ambas as funções.\n"
   ]
  },
  {
   "cell_type": "code",
   "execution_count": 14,
   "id": "e4e47d1d",
   "metadata": {},
   "outputs": [],
   "source": [
    "## Crie aqui as funções inverteValor() e verificaInverso()\n",
    "def inverteValor(n):\n",
    "    invertido = 0\n",
    "    while n != 0:\n",
    "        ultimo_digito = n % 10\n",
    "        invertido = invertido * 10 + ultimo_digito\n",
    "        n = n // 10\n",
    "    return invertido\n",
    "\n",
    "def verificaInverso(valor_original, valor_invertido):\n",
    "    original_paridade = valor_original % 2\n",
    "    invertido_paridade = valor_invertido % 2\n",
    "    return original_paridade == invertido_paridade\n",
    "\n"
   ]
  },
  {
   "cell_type": "code",
   "execution_count": 15,
   "id": "a9514e56",
   "metadata": {},
   "outputs": [
    {
     "name": "stdin",
     "output_type": "stream",
     "text": [
      "Digite um número inteiro:  234\n"
     ]
    },
    {
     "name": "stdout",
     "output_type": "stream",
     "text": [
      "O valor invertido de 234 é 432\n",
      "O valor original (234) e o valor invertido (432) são ambos pares ou ambos ímpares.\n"
     ]
    }
   ],
   "source": [
    "## Escreva aqui o programa principal e execute a célula\n",
    "if __name__ == \"__main__\":\n",
    "    valor = int(input(\"Digite um número inteiro: \"))\n",
    "    \n",
    "    valor_invertido = inverteValor(valor)\n",
    "    print(f\"O valor invertido de {valor} é {valor_invertido}\")\n",
    "    \n",
    "    paridade_igual = verificaInverso(valor, valor_invertido)\n",
    "    if paridade_igual:\n",
    "        print(f\"O valor original ({valor}) e o valor invertido ({valor_invertido}) são ambos pares ou ambos ímpares.\")\n",
    "    else:\n",
    "        print(f\"O valor original ({valor}) e o valor invertido ({valor_invertido}) não têm a mesma paridade.\")"
   ]
  },
  {
   "cell_type": "markdown",
   "id": "329be966",
   "metadata": {},
   "source": [
    "### Q5.\n",
    "\n",
    "Você está desenvolvendo um programa para auxiliar em cálculos de geometria básica. Crie as seguintes funções:\n",
    "- A função ```calcula_perimetro_triangulo()``` que recebe três inteiros correspondentes aos lados de um triângulo e retorna o perímetro do triângulo, ou seja, a soma dos seus lados.\n",
    "- A função ```calcula_perimetro_circulo()``` que recebe um inteiro referente ao raio do círculo e retorna o perímetro do círculo, dado por $2 \\pi r$. Use a constante $\\pi$ da biblioteca ```math```.\n",
    "- A função ```calcula_perimetro_retangulo()``` que possui um parâmetro obrigatório ```lado1``` e um opcional ```lado2```, ambos inteiros. Se o valor opcional não for fornecido, significa que se trata de um quadrado. Sua função deve calcular e retornar o perímetro do retângulo, ou seja, a soma de seus lados. \n",
    "    - Para o quadrado, é dado por $4 \\times lado1$\n",
    "    - Para o retângulo é dado por $2 \\times lado1 + 2 \\times lado2$\n",
    "    \n",
    "- No programa principal apresente um menu com as opções disponíveis do seu sistema e uma quarta opção ```Sair```. Solicite ao usuário a opção desejada, solicite as entradas correspondentes à opção escolhida, invoque a respective função e apresente o seu retorno. Seu programa deve retornar ao menu até que o usuário escolha a opção ```Sair```\n",
    "\n",
    "Exemplo de interação:\n",
    "```\n",
    "1 - Calcular perímetro triângulo\n",
    "2 - Calcular perímetro círculo\n",
    "3 - Calcular perímetro retângulo\n",
    "4 - Sair\n",
    "\n",
    "Opção: 1\n",
    "Digite os três lados do triângulo:\n",
    "3\n",
    "4\n",
    "5\n",
    "O perímetro é: 12\n",
    "\n",
    "1 - Calcular perímetro triângulo\n",
    "2 - Calcular perímetro círculo\n",
    "3 - Calcular perímetro retângulo\n",
    "4 - Sair\n",
    "\n",
    "Opção: 3\n",
    "Informe os dois lados do retângulo. Se for um quadrado, digite 0 para o segundo valor:\n",
    "5\n",
    "0\n",
    "O perímetro é: 20\n",
    "\n",
    "1 - Calcular perímetro triângulo\n",
    "2 - Calcular perímetro círculo\n",
    "3 - Calcular perímetro retângulo\n",
    "4 - Sair\n",
    "\n",
    "Opção: 4\n",
    "```"
   ]
  },
  {
   "cell_type": "code",
   "execution_count": 16,
   "id": "0793d328",
   "metadata": {},
   "outputs": [],
   "source": [
    "## Crie aqui as funções \n",
    "import math\n",
    "def exibir_menu():\n",
    "    print(\"\\nMenu:\")\n",
    "    print(\"1. Calcular perímetro de um triangulo\")\n",
    "    print(\"2. Calcular perímetro de um circulo\")\n",
    "    print(\"3. Calcular perímetro de um quadrado\")\n",
    "    print(\"4. Calcular perímetro de um retângulo\")\n",
    "    print(\"5. Sair\")\n",
    "    opcao = int(input(\"Escolha uma opção: \"))\n",
    "    return opcao\n",
    "\n",
    "def calcula_perimetro_triangulo(lado_1, lado_2, lado_3):\n",
    "    return  lado_1 + lado_2 + lado_3\n",
    "\n",
    "def calcula_perimetro_circulo(raio):\n",
    "    return 2 * math.pi * raio\n",
    "\n",
    "def calcula_perimetro_retangulo(lado1, lado2=None):\n",
    "    if lado2 is None:\n",
    "        return 4 * lado1\n",
    "    else:\n",
    "        return 2 * (lado1 + lado2)"
   ]
  },
  {
   "cell_type": "code",
   "execution_count": 17,
   "id": "36269c71",
   "metadata": {},
   "outputs": [
    {
     "name": "stdout",
     "output_type": "stream",
     "text": [
      "\n",
      "Menu:\n",
      "1. Calcular perímetro de um triangulo\n",
      "2. Calcular perímetro de um circulo\n",
      "3. Calcular perímetro de um quadrado\n",
      "4. Calcular perímetro de um retângulo\n",
      "5. Sair\n"
     ]
    },
    {
     "name": "stdin",
     "output_type": "stream",
     "text": [
      "Escolha uma opção:  1\n",
      "Digite o tamanho do primeiro lado:  3\n",
      "Digite o tamanho do segundo lado:  4\n",
      "Digite o tamanho do terceiro lado:  5\n"
     ]
    },
    {
     "name": "stdout",
     "output_type": "stream",
     "text": [
      "O perímetro do Triangulo é 12.00\n",
      "\n",
      "------------------------------\n",
      "\n",
      "Menu:\n",
      "1. Calcular perímetro de um triangulo\n",
      "2. Calcular perímetro de um circulo\n",
      "3. Calcular perímetro de um quadrado\n",
      "4. Calcular perímetro de um retângulo\n",
      "5. Sair\n"
     ]
    },
    {
     "name": "stdin",
     "output_type": "stream",
     "text": [
      "Escolha uma opção:  5\n"
     ]
    },
    {
     "name": "stdout",
     "output_type": "stream",
     "text": [
      "Saindo do programa.\n"
     ]
    }
   ],
   "source": [
    "## Escreva aqui o programa principal \n",
    "if __name__ == \"__main__\":\n",
    "    while True:\n",
    "        opcao = exibir_menu()\n",
    "        if opcao == 1:\n",
    "            lado_1 = int(input(\"Digite o tamanho do primeiro lado: \"))\n",
    "            lado_2 = int(input(\"Digite o tamanho do segundo lado: \"))\n",
    "            lado_3 = int(input(\"Digite o tamanho do terceiro lado: \"))\n",
    "            perimetro_triangulo = calcula_perimetro_triangulo(lado_1, lado_2, lado_3)\n",
    "            print(f\"O perímetro do Triangulo é {perimetro_triangulo:.2f}\")\n",
    "        \n",
    "        elif opcao == 2:\n",
    "            raio = int(input(\"Digite o raio do círculo: \"))\n",
    "            perimetro_circulo = calcula_perimetro_circulo(raio)\n",
    "            print(f\"O perímetro do círculo de raio {raio} é {perimetro_circulo:.2f}\")\n",
    "\n",
    "        elif opcao == 3:\n",
    "            lado = int(input(\"Digite o lado do quadrado: \"))\n",
    "            perimetro = calcula_perimetro_retangulo(lado)\n",
    "            print(f\"O perímetro do quadrado de lado {lado} é {perimetro}\")\n",
    "        elif opcao == 4:\n",
    "            lado1 = int(input(\"Digite o primeiro lado do retângulo: \"))\n",
    "            lado2 = int(input(\"Digite o segundo lado do retângulo: \"))\n",
    "            perimetro = calcula_perimetro_retangulo(lado1, lado2)\n",
    "            print(f\"O perímetro do retângulo de lados {lado1} e {lado2} é {perimetro}\")\n",
    "        elif opcao == 5:\n",
    "            print(\"Saindo do programa.\")\n",
    "            break\n",
    "        else:\n",
    "            print(\"Opção inválida! Tente novamente.\")\n",
    "\n",
    "        # Espaçamento para o menu\n",
    "        print(\"\\n\" + \"-\"*30)\n"
   ]
  },
  {
   "cell_type": "markdown",
   "id": "3016bcc7",
   "metadata": {},
   "source": [
    "## Funções ```lambda```"
   ]
  },
  {
   "cell_type": "markdown",
   "id": "f9cdb8dd",
   "metadata": {},
   "source": [
    "### Q6.\n",
    "\n",
    "Crie uma função lambda para verificar se um número é par ou ímpar. Em seguida, solicite ao usuário um número indefinidos de valores (até que o usuário digite 0). Para cada valor de entrada, informe se é par ou ímpar.\n",
    "\n",
    "Exemplo de interação:\n",
    "```\n",
    "Digite os valores que deseja verificar a paridade (digite 0 para finalizar a entrada de dados):\n",
    "3\n",
    "ímpar\n",
    "8\n",
    "par\n",
    "12\n",
    "par\n",
    "5\n",
    "ímpar\n",
    "7ímpar\n",
    "```"
   ]
  },
  {
   "cell_type": "code",
   "execution_count": null,
   "id": "e3c31a78",
   "metadata": {},
   "outputs": [],
   "source": [
    "verifica_paridade = lambda x: \"par\" if x % 2 == 0 else \"ímpar\"\n",
    "\n",
    "if __name__ == \"__main__\":\n",
    "    while True:\n",
    "        valor = int(input(\"Digite um número (digite 0 para sair): \"))\n",
    "        \n",
    "        if valor == 0:\n",
    "            print(\"Saindo do programa.\")\n",
    "            break\n",
    "        \n",
    "        paridade = verifica_paridade(valor)\n",
    "        print(f\"O número {valor} é {paridade}.\")\n"
   ]
  },
  {
   "cell_type": "markdown",
   "id": "5a87474d",
   "metadata": {},
   "source": [
    "### Q7.\n",
    "\n",
    "Escreva um programa que pergunte ao usuário qual operação ele deseja: maior ou menor.\n",
    "Em seguida leia uma quantidade indefinida de valores do usuário, até que o usuário digite o valor zero.\n",
    "Apresente ao final o maior ou menor dos valores digitados de acordo com a escolha do usuário.\n",
    "\n",
    "**Sua solução deve incluir pelo menos uma função ```lambda```** \n",
    "\n",
    "Exemplo de interação:\n",
    "```\n",
    "Opções: (1) maior ou (2) menor?\n",
    "Opção: 1\n",
    "\n",
    "Digite os valores de entrada. Digite 0 para finalizar a entrada de valores.\n",
    "4\n",
    "12\n",
    "15\n",
    "1\n",
    "0\n",
    "\n",
    "O maior valor é: 15\n",
    "```"
   ]
  },
  {
   "cell_type": "code",
   "execution_count": 20,
   "id": "ee3f68ca",
   "metadata": {},
   "outputs": [
    {
     "name": "stdin",
     "output_type": "stream",
     "text": [
      "Você deseja encontrar o maior ou o menor valor? (Digite 'maior' ou 'menor'):  maior\n",
      "Digite um valor (digite 0 para sair):  49\n",
      "Digite um valor (digite 0 para sair):  67\n",
      "Digite um valor (digite 0 para sair):  45\n",
      "Digite um valor (digite 0 para sair):  0\n"
     ]
    },
    {
     "name": "stdout",
     "output_type": "stream",
     "text": [
      "O maior valor digitado é 67.\n"
     ]
    }
   ],
   "source": [
    "## Escreva aqui o programa principal \n",
    "maior_valor = lambda valores: max(valores)\n",
    "menor_valor = lambda valores: min(valores)\n",
    "\n",
    "if __name__ == \"__main__\":\n",
    " \n",
    "    escolha = input(\"Você deseja encontrar o maior ou o menor valor? (Digite 'maior' ou 'menor'): \").strip().lower()\n",
    "    \n",
    "    if escolha not in ['maior', 'menor']:\n",
    "        print(\"Opção inválida!\")\n",
    "    else:\n",
    "        valores = []\n",
    "        \n",
    "        while True:\n",
    "            valor = int(input(\"Digite um valor (digite 0 para sair): \"))\n",
    "            if valor == 0:\n",
    "                break\n",
    "            valores.append(valor)\n",
    "        \n",
    "        if valores:\n",
    "            if escolha == 'maior':\n",
    "                resultado = maior_valor(valores)\n",
    "                print(f\"O maior valor digitado é {resultado}.\")\n",
    "            elif escolha == 'menor':\n",
    "                resultado = menor_valor(valores)\n",
    "                print(f\"O menor valor digitado é {resultado}.\")\n",
    "        else:\n",
    "            print(\"Nenhum valor foi digitado.\")\n"
   ]
  }
 ],
 "metadata": {
  "kernelspec": {
   "display_name": "Python 3 (ipykernel)",
   "language": "python",
   "name": "python3"
  },
  "language_info": {
   "codemirror_mode": {
    "name": "ipython",
    "version": 3
   },
   "file_extension": ".py",
   "mimetype": "text/x-python",
   "name": "python",
   "nbconvert_exporter": "python",
   "pygments_lexer": "ipython3",
   "version": "3.12.2"
  }
 },
 "nbformat": 4,
 "nbformat_minor": 5
}
