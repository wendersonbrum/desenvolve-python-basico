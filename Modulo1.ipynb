{
 "cells": [
  {
   "cell_type": "code",
   "execution_count": 1,
   "id": "1f5fdba0-bf0b-4398-a3cb-6c5a90345a2e",
   "metadata": {},
   "outputs": [
    {
     "name": "stdout",
     "output_type": "stream",
     "text": [
      "meu primeiro código\n"
     ]
    }
   ],
   "source": [
    "print(\"meu primeiro código\") "
   ]
  },
  {
   "cell_type": "code",
   "execution_count": 2,
   "id": "a99204d7-c251-41b9-83f3-cb7182f5ef8d",
   "metadata": {},
   "outputs": [
    {
     "name": "stdout",
     "output_type": "stream",
     "text": [
      "11\n",
      "3\n",
      "50\n",
      "2.0\n"
     ]
    }
   ],
   "source": [
    "x = 10 \n",
    "y = 5 \n",
    "print (x+1)\n",
    "print (y-2)\n",
    "print (y*x)\n",
    "print (x/y)\n"
   ]
  },
  {
   "cell_type": "code",
   "execution_count": 3,
   "id": "ab84011a-04a7-4a8e-9c11-3dca5afa6457",
   "metadata": {},
   "outputs": [
    {
     "name": "stdout",
     "output_type": "stream",
     "text": [
      "Ola\n"
     ]
    }
   ],
   "source": [
    "print (\"Ola\")"
   ]
  }
 ],
 "metadata": {
  "kernelspec": {
   "display_name": "Python 3 (ipykernel)",
   "language": "python",
   "name": "python3"
  },
  "language_info": {
   "codemirror_mode": {
    "name": "ipython",
    "version": 3
   },
   "file_extension": ".py",
   "mimetype": "text/x-python",
   "name": "python",
   "nbconvert_exporter": "python",
   "pygments_lexer": "ipython3",
   "version": "3.12.2"
  }
 },
 "nbformat": 4,
 "nbformat_minor": 5
}
